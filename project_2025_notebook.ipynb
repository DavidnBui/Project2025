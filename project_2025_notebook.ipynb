{
 "cells": [
  {
   "cell_type": "code",
   "execution_count": 1,
   "id": "e420e410",
   "metadata": {},
   "outputs": [],
   "source": [
    "import pandas as pd # importing dependencies \n",
    "from sqlalchemy import create_engine\n",
    "from dotenv import load_dotenv\n",
    "import os"
   ]
  },
  {
   "cell_type": "code",
   "execution_count": 2,
   "id": "1cb731a6",
   "metadata": {},
   "outputs": [
    {
     "data": {
      "text/plain": [
       "True"
      ]
     },
     "execution_count": 2,
     "metadata": {},
     "output_type": "execute_result"
    }
   ],
   "source": [
    "load_dotenv(dotenv_path='info.env')"
   ]
  },
  {
   "cell_type": "code",
   "execution_count": 3,
   "id": "84ce0b63",
   "metadata": {},
   "outputs": [],
   "source": [
    "db_url = f\"postgresql+psycopg2://{os.getenv('DB_USER')}:{os.getenv('DB_PASSWORD')}@{os.getenv('DB_HOST')}:{os.getenv('DB_PORT')}/{os.getenv('DB_NAME')}\""
   ]
  },
  {
   "cell_type": "code",
   "execution_count": 4,
   "id": "b1ca272b",
   "metadata": {},
   "outputs": [],
   "source": [
    "engine = create_engine(db_url)"
   ]
  },
  {
   "cell_type": "code",
   "execution_count": 5,
   "id": "c30be50c",
   "metadata": {},
   "outputs": [
    {
     "data": {
      "text/html": [
       "<div>\n",
       "<style scoped>\n",
       "    .dataframe tbody tr th:only-of-type {\n",
       "        vertical-align: middle;\n",
       "    }\n",
       "\n",
       "    .dataframe tbody tr th {\n",
       "        vertical-align: top;\n",
       "    }\n",
       "\n",
       "    .dataframe thead th {\n",
       "        text-align: right;\n",
       "    }\n",
       "</style>\n",
       "<table border=\"1\" class=\"dataframe\">\n",
       "  <thead>\n",
       "    <tr style=\"text-align: right;\">\n",
       "      <th></th>\n",
       "      <th>order_id</th>\n",
       "      <th>order_date</th>\n",
       "      <th>customer_id</th>\n",
       "      <th>product_id</th>\n",
       "      <th>quantity</th>\n",
       "      <th>payment_id</th>\n",
       "      <th>region_id</th>\n",
       "      <th>discount</th>\n",
       "      <th>sales_amount</th>\n",
       "      <th>created_at</th>\n",
       "    </tr>\n",
       "  </thead>\n",
       "  <tbody>\n",
       "    <tr>\n",
       "      <th>0</th>\n",
       "      <td>1001</td>\n",
       "      <td>2023-01-04</td>\n",
       "      <td>Bob</td>\n",
       "      <td>1002</td>\n",
       "      <td>17</td>\n",
       "      <td>3</td>\n",
       "      <td>4</td>\n",
       "      <td>0.21</td>\n",
       "      <td>2716.34</td>\n",
       "      <td>2025-04-09 22:38:00.549858</td>\n",
       "    </tr>\n",
       "    <tr>\n",
       "      <th>1</th>\n",
       "      <td>1002</td>\n",
       "      <td>2023-07-08</td>\n",
       "      <td>Alice</td>\n",
       "      <td>1042</td>\n",
       "      <td>23</td>\n",
       "      <td>1</td>\n",
       "      <td>4</td>\n",
       "      <td>0.15</td>\n",
       "      <td>5947.31</td>\n",
       "      <td>2025-04-09 22:38:00.549858</td>\n",
       "    </tr>\n",
       "    <tr>\n",
       "      <th>2</th>\n",
       "      <td>1003</td>\n",
       "      <td>2023-01-24</td>\n",
       "      <td>Bob</td>\n",
       "      <td>1054</td>\n",
       "      <td>22</td>\n",
       "      <td>3</td>\n",
       "      <td>4</td>\n",
       "      <td>0.11</td>\n",
       "      <td>6624.55</td>\n",
       "      <td>2025-04-09 22:38:00.549858</td>\n",
       "    </tr>\n",
       "    <tr>\n",
       "      <th>3</th>\n",
       "      <td>1004</td>\n",
       "      <td>2023-09-04</td>\n",
       "      <td>Eve</td>\n",
       "      <td>1068</td>\n",
       "      <td>14</td>\n",
       "      <td>2</td>\n",
       "      <td>4</td>\n",
       "      <td>0.03</td>\n",
       "      <td>3905.11</td>\n",
       "      <td>2025-04-09 22:38:00.549858</td>\n",
       "    </tr>\n",
       "    <tr>\n",
       "      <th>4</th>\n",
       "      <td>1005</td>\n",
       "      <td>2023-01-26</td>\n",
       "      <td>David</td>\n",
       "      <td>1026</td>\n",
       "      <td>5</td>\n",
       "      <td>1</td>\n",
       "      <td>4</td>\n",
       "      <td>0.12</td>\n",
       "      <td>2195.20</td>\n",
       "      <td>2025-04-09 22:38:00.549858</td>\n",
       "    </tr>\n",
       "  </tbody>\n",
       "</table>\n",
       "</div>"
      ],
      "text/plain": [
       "   order_id  order_date customer_id  product_id  quantity  payment_id  \\\n",
       "0      1001  2023-01-04         Bob        1002        17           3   \n",
       "1      1002  2023-07-08       Alice        1042        23           1   \n",
       "2      1003  2023-01-24         Bob        1054        22           3   \n",
       "3      1004  2023-09-04         Eve        1068        14           2   \n",
       "4      1005  2023-01-26       David        1026         5           1   \n",
       "\n",
       "   region_id  discount  sales_amount                 created_at  \n",
       "0          4      0.21       2716.34 2025-04-09 22:38:00.549858  \n",
       "1          4      0.15       5947.31 2025-04-09 22:38:00.549858  \n",
       "2          4      0.11       6624.55 2025-04-09 22:38:00.549858  \n",
       "3          4      0.03       3905.11 2025-04-09 22:38:00.549858  \n",
       "4          4      0.12       2195.20 2025-04-09 22:38:00.549858  "
      ]
     },
     "execution_count": 5,
     "metadata": {},
     "output_type": "execute_result"
    }
   ],
   "source": [
    "query = \"SELECT * FROM orders\"\n",
    "orders_df = pd.read_sql(query, engine)\n",
    "orders_df.head()"
   ]
  },
  {
   "cell_type": "code",
   "execution_count": 6,
   "id": "25f0bba6",
   "metadata": {},
   "outputs": [
    {
     "data": {
      "text/html": [
       "<div>\n",
       "<style scoped>\n",
       "    .dataframe tbody tr th:only-of-type {\n",
       "        vertical-align: middle;\n",
       "    }\n",
       "\n",
       "    .dataframe tbody tr th {\n",
       "        vertical-align: top;\n",
       "    }\n",
       "\n",
       "    .dataframe thead th {\n",
       "        text-align: right;\n",
       "    }\n",
       "</style>\n",
       "<table border=\"1\" class=\"dataframe\">\n",
       "  <thead>\n",
       "    <tr style=\"text-align: right;\">\n",
       "      <th></th>\n",
       "      <th>category</th>\n",
       "      <th>total_sales</th>\n",
       "    </tr>\n",
       "  </thead>\n",
       "  <tbody>\n",
       "    <tr>\n",
       "      <th>0</th>\n",
       "      <td>Clothing</td>\n",
       "      <td>1394525.96</td>\n",
       "    </tr>\n",
       "    <tr>\n",
       "      <th>1</th>\n",
       "      <td>Food</td>\n",
       "      <td>1238750.39</td>\n",
       "    </tr>\n",
       "    <tr>\n",
       "      <th>2</th>\n",
       "      <td>Furniture</td>\n",
       "      <td>1212983.26</td>\n",
       "    </tr>\n",
       "    <tr>\n",
       "      <th>3</th>\n",
       "      <td>Electronics</td>\n",
       "      <td>1173005.62</td>\n",
       "    </tr>\n",
       "  </tbody>\n",
       "</table>\n",
       "</div>"
      ],
      "text/plain": [
       "      category  total_sales\n",
       "0     Clothing   1394525.96\n",
       "1         Food   1238750.39\n",
       "2    Furniture   1212983.26\n",
       "3  Electronics   1173005.62"
      ]
     },
     "execution_count": 6,
     "metadata": {},
     "output_type": "execute_result"
    }
   ],
   "source": [
    "query = \"\"\"\n",
    "    SELECT pc.name AS category, SUM(o.sales_amount) AS total_sales\n",
    "    FROM orders o\n",
    "    JOIN products p ON o.product_id = p.product_id\n",
    "    JOIN product_category pc ON p.category_id = pc.id\n",
    "    GROUP BY pc.name\n",
    "    ORDER BY total_sales DESC;\n",
    "\"\"\"\n",
    "category_sales_df = pd.read_sql(query, engine)\n",
    "category_sales_df.head()"
   ]
  }
 ],
 "metadata": {
  "kernelspec": {
   "display_name": "base",
   "language": "python",
   "name": "python3"
  },
  "language_info": {
   "codemirror_mode": {
    "name": "ipython",
    "version": 3
   },
   "file_extension": ".py",
   "mimetype": "text/x-python",
   "name": "python",
   "nbconvert_exporter": "python",
   "pygments_lexer": "ipython3",
   "version": "3.12.3"
  }
 },
 "nbformat": 4,
 "nbformat_minor": 5
}
