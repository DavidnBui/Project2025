{
 "cells": [
  {
   "cell_type": "code",
   "execution_count": 1,
   "id": "2721eea6",
   "metadata": {},
   "outputs": [
    {
     "name": "stdout",
     "output_type": "stream",
     "text": [
      "Requirement already satisfied: psycopg2-binary in c:\\users\\david\\anaconda3\\lib\\site-packages (2.9.10)\n",
      "Requirement already satisfied: sqlalchemy in c:\\users\\david\\anaconda3\\lib\\site-packages (2.0.30)\n",
      "Requirement already satisfied: pandas in c:\\users\\david\\anaconda3\\lib\\site-packages (2.2.2)\n",
      "Requirement already satisfied: typing-extensions>=4.6.0 in c:\\users\\david\\anaconda3\\lib\\site-packages (from sqlalchemy) (4.11.0)\n",
      "Requirement already satisfied: greenlet!=0.4.17 in c:\\users\\david\\anaconda3\\lib\\site-packages (from sqlalchemy) (3.0.1)\n",
      "Requirement already satisfied: numpy>=1.26.0 in c:\\users\\david\\anaconda3\\lib\\site-packages (from pandas) (1.26.4)\n",
      "Requirement already satisfied: python-dateutil>=2.8.2 in c:\\users\\david\\anaconda3\\lib\\site-packages (from pandas) (2.9.0.post0)\n",
      "Requirement already satisfied: pytz>=2020.1 in c:\\users\\david\\anaconda3\\lib\\site-packages (from pandas) (2024.1)\n",
      "Requirement already satisfied: tzdata>=2022.7 in c:\\users\\david\\anaconda3\\lib\\site-packages (from pandas) (2023.3)\n",
      "Requirement already satisfied: six>=1.5 in c:\\users\\david\\anaconda3\\lib\\site-packages (from python-dateutil>=2.8.2->pandas) (1.16.0)\n",
      "Note: you may need to restart the kernel to use updated packages.\n"
     ]
    }
   ],
   "source": [
    "pip install psycopg2-binary sqlalchemy pandas"
   ]
  },
  {
   "cell_type": "code",
   "execution_count": 2,
   "id": "babbf4ab",
   "metadata": {},
   "outputs": [
    {
     "name": "stdout",
     "output_type": "stream",
     "text": [
      "Requirement already satisfied: python-dotenv in c:\\users\\david\\anaconda3\\lib\\site-packages (0.21.0)Note: you may need to restart the kernel to use updated packages.\n",
      "\n"
     ]
    }
   ],
   "source": [
    "pip install python-dotenv"
   ]
  },
  {
   "cell_type": "code",
   "execution_count": 10,
   "id": "32786a63",
   "metadata": {},
   "outputs": [],
   "source": [
    "import os\n",
    "\n",
    "if not os.path.exists('normalized_data'):\n",
    "    os.makedirs('normalized_data')"
   ]
  },
  {
   "cell_type": "code",
   "execution_count": 11,
   "id": "3df40e5f",
   "metadata": {},
   "outputs": [],
   "source": [
    "orders_df = pd.read_sql(\"SELECT * FROM orders\", engine)\n",
    "orders_df.to_csv(\"normalized_data/orders.csv\", index=False)"
   ]
  },
  {
   "cell_type": "code",
   "execution_count": 12,
   "id": "9e70695d",
   "metadata": {},
   "outputs": [],
   "source": [
    "products_df = pd.read_sql(\"SELECT * FROM products\", engine)\n",
    "products_df.to_csv(\"normalized_data/products.csv\", index=False)"
   ]
  },
  {
   "cell_type": "code",
   "execution_count": 13,
   "id": "9545087a",
   "metadata": {},
   "outputs": [],
   "source": [
    "customers_df = pd.read_sql(\"SELECT * FROM customer\", engine)\n",
    "customers_df.to_csv(\"normalized_data/customers.csv\", index=False)"
   ]
  },
  {
   "cell_type": "code",
   "execution_count": 14,
   "id": "916a8e5b",
   "metadata": {},
   "outputs": [],
   "source": [
    "regions_df = pd.read_sql(\"SELECT * FROM regions\", engine)\n",
    "regions_df.to_csv(\"normalized_data/regions.csv\", index=False)"
   ]
  },
  {
   "cell_type": "code",
   "execution_count": 15,
   "id": "334ab365",
   "metadata": {},
   "outputs": [],
   "source": [
    "customer_type_df = pd.read_sql(\"SELECT * FROM customer_type\", engine)\n",
    "customer_type_df.to_csv(\"normalized_data/customer_type.csv\", index=False)"
   ]
  },
  {
   "cell_type": "code",
   "execution_count": 16,
   "id": "40f67df8",
   "metadata": {},
   "outputs": [],
   "source": [
    "payments_df = pd.read_sql(\"SELECT * FROM payments\", engine)\n",
    "payments_df.to_csv(\"normalized_data/payments.csv\", index=False)"
   ]
  },
  {
   "cell_type": "code",
   "execution_count": 17,
   "id": "84c3cfdb",
   "metadata": {},
   "outputs": [],
   "source": [
    "product_category_df = pd.read_sql(\"SELECT * FROM product_category\", engine)\n",
    "product_category_df.to_csv(\"normalized_data/product_category.csv\", index=False)"
   ]
  }
 ],
 "metadata": {
  "kernelspec": {
   "display_name": "base",
   "language": "python",
   "name": "python3"
  },
  "language_info": {
   "codemirror_mode": {
    "name": "ipython",
    "version": 3
   },
   "file_extension": ".py",
   "mimetype": "text/x-python",
   "name": "python",
   "nbconvert_exporter": "python",
   "pygments_lexer": "ipython3",
   "version": "3.12.3"
  }
 },
 "nbformat": 4,
 "nbformat_minor": 5
}
